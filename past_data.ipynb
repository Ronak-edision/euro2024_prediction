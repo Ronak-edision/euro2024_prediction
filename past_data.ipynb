{
 "cells": [
  {
   "cell_type": "code",
   "execution_count": 18,
   "metadata": {},
   "outputs": [],
   "source": [
    "from bs4 import BeautifulSoup\n",
    "import requests\n",
    "import  pandas as pd"
   ]
  },
  {
   "cell_type": "code",
   "execution_count": 19,
   "metadata": {},
   "outputs": [],
   "source": [
    "years=[]\n",
    "for i in range(1960, 2021,4):\n",
    "    years.append(i)"
   ]
  },
  {
   "cell_type": "code",
   "execution_count": 20,
   "metadata": {},
   "outputs": [],
   "source": [
    "def get_matches(year): \n",
    "    web=f'https://en.wikipedia.org/wiki/UEFA_Euro_{year}'\n",
    "\n",
    "    response= requests.get(web)\n",
    "    content=response.text\n",
    "    soup=BeautifulSoup(content,'lxml')\n",
    "\n",
    "    matches=soup.find_all('div', class_='footballbox') #find all gets multiple in a list with class_='footballbox'\n",
    "\n",
    "    home =[]\n",
    "    score=[]\n",
    "    away=[]\n",
    "\n",
    "    for match in matches:\n",
    "        home.append(match.find('th',class_='fhome').get_text())\n",
    "        score.append(match.find('th',class_='fscore').get_text())\n",
    "        away.append(match.find('th',class_='faway').get_text())\n",
    "\n",
    "    dict_football={'home':home,'score':score,'away':away}\n",
    "    df_football=pd.DataFrame(dict_football)\n",
    "    df_football['year']=year\n",
    "    return df_football\n"
   ]
  },
  {
   "cell_type": "markdown",
   "metadata": {},
   "source": [
    "<h3>\n",
    "historical data\n",
    "\n",
    "</h3>"
   ]
  },
  {
   "cell_type": "code",
   "execution_count": 21,
   "metadata": {},
   "outputs": [],
   "source": [
    "uefa= [get_matches(year) for year in years] # direct loop to have the list with year(argument) send in get_matches where years is the iteration of years list\n",
    "df_uefa=pd.concat(uefa, ignore_index=True)\n",
    "df_uefa.to_csv('uefa_euros_historical_data.csv',index=False)"
   ]
  },
  {
   "cell_type": "markdown",
   "metadata": {},
   "source": [
    "<h2>Fixture</h2>"
   ]
  },
  {
   "cell_type": "code",
   "execution_count": 22,
   "metadata": {},
   "outputs": [],
   "source": [
    "df_fixture=get_matches(2024)\n",
    "df_fixture.to_csv('uefa_euros_fixture.csv',index=False)\n"
   ]
  },
  {
   "cell_type": "code",
   "execution_count": null,
   "metadata": {},
   "outputs": [],
   "source": []
  }
 ],
 "metadata": {
  "kernelspec": {
   "display_name": "base",
   "language": "python",
   "name": "python3"
  },
  "language_info": {
   "codemirror_mode": {
    "name": "ipython",
    "version": 3
   },
   "file_extension": ".py",
   "mimetype": "text/x-python",
   "name": "python",
   "nbconvert_exporter": "python",
   "pygments_lexer": "ipython3",
   "version": "3.11.5"
  }
 },
 "nbformat": 4,
 "nbformat_minor": 2
}
