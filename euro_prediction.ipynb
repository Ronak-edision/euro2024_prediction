{
 "cells": [
  {
   "cell_type": "code",
   "execution_count": 29,
   "metadata": {},
   "outputs": [],
   "source": [
    "import pandas as pd\n",
    "import pandas as pd\n",
    "from string import ascii_uppercase as alphabet \n",
    "\n",
    "import pickle\n"
   ]
  },
  {
   "cell_type": "code",
   "execution_count": 30,
   "metadata": {},
   "outputs": [],
   "source": [
    "all_tables =pd.read_html('https://en.wikipedia.org/wiki/UEFA_Euro_2024#Group_stage')\n",
    "dict_table={}\n",
    "for letter, i in zip(alphabet, range(9,51,7)):\n",
    "    \n",
    "    df = all_tables[i]\n",
    "    df.rename(columns={df.columns[1]:'Team'}, inplace=True)\n",
    "    df.pop('Qualification')\n",
    "    dict_table[f'Group{letter}']=df"
   ]
  },
  {
   "cell_type": "code",
   "execution_count": 31,
   "metadata": {},
   "outputs": [],
   "source": [
    "with open('dict_table', 'wb') as output:\n",
    "    pickle.dump(dict_table, output)"
   ]
  },
  {
   "cell_type": "code",
   "execution_count": null,
   "metadata": {},
   "outputs": [],
   "source": []
  }
 ],
 "metadata": {
  "kernelspec": {
   "display_name": "base",
   "language": "python",
   "name": "python3"
  },
  "language_info": {
   "codemirror_mode": {
    "name": "ipython",
    "version": 3
   },
   "file_extension": ".py",
   "mimetype": "text/x-python",
   "name": "python",
   "nbconvert_exporter": "python",
   "pygments_lexer": "ipython3",
   "version": "3.11.5"
  }
 },
 "nbformat": 4,
 "nbformat_minor": 2
}
