{
 "cells": [
  {
   "cell_type": "code",
   "execution_count": 2,
   "metadata": {},
   "outputs": [],
   "source": [
    "import pandas as pd"
   ]
  },
  {
   "cell_type": "code",
   "execution_count": 3,
   "metadata": {},
   "outputs": [],
   "source": [
    "\n",
    "df_historical_data=pd.read_csv('uefa_euros_historical_data.csv')\n",
    "df_fixture=pd.read_csv('uefa_euros_fixture.csv')\n"
   ]
  },
  {
   "cell_type": "markdown",
   "metadata": {},
   "source": [
    "<h2>1 Data Cleaning</h2>"
   ]
  },
  {
   "cell_type": "markdown",
   "metadata": {},
   "source": [
    "<h3>1.1 strip spaces</h3>"
   ]
  },
  {
   "cell_type": "code",
   "execution_count": 4,
   "metadata": {},
   "outputs": [],
   "source": [
    "df_fixture['home']=df_fixture['home'].str.strip()\n",
    "df_fixture['away']=df_fixture['away'].str.strip()"
   ]
  },
  {
   "cell_type": "markdown",
   "metadata": {},
   "source": [
    "<h3>check score validity</h3>\n",
    "<h4>a.e.t => after extra time \n",
    " \"a.e.t./g.g.\" typically stands for \"after extra time/goals scored in extra time,\" while \"a.e.t./s.g.\" stands for \"after extra time/penalty shootout.\n",
    "</h4>"
   ]
  },
  {
   "cell_type": "code",
   "execution_count": 5,
   "metadata": {},
   "outputs": [
    {
     "name": "stdout",
     "output_type": "stream",
     "text": [
      "                home                               score             away  \\\n",
      "3      Soviet Union                         2–1 (a.e.t.)       Yugoslavia   \n",
      "4             Spain                         2–1 (a.e.t.)          Hungary   \n",
      "6           Hungary                         3–1 (a.e.t.)          Denmark   \n",
      "8             Italy   0–0 (a.e.t.)Italy won on coin toss     Soviet Union   \n",
      "11            Italy                         1–1 (a.e.t.)       Yugoslavia   \n",
      "17   Czechoslovakia                         3–1 (a.e.t.)      Netherlands   \n",
      "18       Yugoslavia                         2–4 (a.e.t.)     West Germany   \n",
      "19      Netherlands                         3–2 (a.e.t.)       Yugoslavia   \n",
      "20   Czechoslovakia                         2–2 (a.e.t.)     West Germany   \n",
      "47           France                         3–2 (a.e.t.)         Portugal   \n",
      "48          Denmark                         1–1 (a.e.t.)            Spain   \n",
      "78      Netherlands                         2–2 (a.e.t.)          Denmark   \n",
      "104           Spain                         0–0 (a.e.t.)          England   \n",
      "105          France                         0–0 (a.e.t.)      Netherlands   \n",
      "108          France                         0–0 (a.e.t.)   Czech Republic   \n",
      "109         Germany                         1–1 (a.e.t.)          England   \n",
      "110  Czech Republic                    1–2 (a.e.t./g.g.)          Germany   \n",
      "139          France                         2–1 (a.e.t.)         Portugal   \n",
      "140           Italy                         0–0 (a.e.t.)      Netherlands   \n",
      "141          France                    2–1 (a.e.t./g.g.)            Italy   \n",
      "166        Portugal                         2–2 (a.e.t.)          England   \n",
      "168          Sweden                         0–0 (a.e.t.)      Netherlands   \n",
      "171          Greece                    1–0 (a.e.t./s.g.)   Czech Republic   \n",
      "198         Croatia                         1–1 (a.e.t.)           Turkey   \n",
      "199     Netherlands                         1–3 (a.e.t.)           Russia   \n",
      "200           Spain                         0–0 (a.e.t.)            Italy   \n",
      "231         England                         0–0 (a.e.t.)            Italy   \n",
      "232        Portugal                         0–0 (a.e.t.)            Spain   \n",
      "271     Switzerland                         1–1 (a.e.t.)           Poland   \n",
      "273         Croatia                         0–1 (a.e.t.)         Portugal   \n",
      "279          Poland                         1–1 (a.e.t.)         Portugal   \n",
      "281         Germany                         1–1 (a.e.t.)            Italy   \n",
      "285        Portugal                         1–0 (a.e.t.)           France   \n",
      "323           Italy                         2–1 (a.e.t.)          Austria   \n",
      "326         Croatia                         3–5 (a.e.t.)            Spain   \n",
      "327          France                         3–3 (a.e.t.)      Switzerland   \n",
      "329          Sweden                         1–2 (a.e.t.)          Ukraine   \n",
      "330     Switzerland                         1–1 (a.e.t.)            Spain   \n",
      "334           Italy                         1–1 (a.e.t.)            Spain   \n",
      "335         England                         2–1 (a.e.t.)          Denmark   \n",
      "336           Italy                         1–1 (a.e.t.)          England   \n",
      "\n",
      "     year  \n",
      "3    1960  \n",
      "4    1964  \n",
      "6    1964  \n",
      "8    1968  \n",
      "11   1968  \n",
      "17   1976  \n",
      "18   1976  \n",
      "19   1976  \n",
      "20   1976  \n",
      "47   1984  \n",
      "48   1984  \n",
      "78   1992  \n",
      "104  1996  \n",
      "105  1996  \n",
      "108  1996  \n",
      "109  1996  \n",
      "110  1996  \n",
      "139  2000  \n",
      "140  2000  \n",
      "141  2000  \n",
      "166  2004  \n",
      "168  2004  \n",
      "171  2004  \n",
      "198  2008  \n",
      "199  2008  \n",
      "200  2008  \n",
      "231  2012  \n",
      "232  2012  \n",
      "271  2016  \n",
      "273  2016  \n",
      "279  2016  \n",
      "281  2016  \n",
      "285  2016  \n",
      "323  2020  \n",
      "326  2020  \n",
      "327  2020  \n",
      "329  2020  \n",
      "330  2020  \n",
      "334  2020  \n",
      "335  2020  \n",
      "336  2020  \n"
     ]
    }
   ],
   "source": [
    "import re\n",
    "\n",
    "pattern_only_score = r'^\\d+[\\u2013\\u2212−]\\d+$'\n",
    "pattern_score_extra_time_goal=r'^\\d+[\\u2013\\u2212−]\\d+(?: \\([a-z./ ]+\\))?$'\n",
    "\n",
    "# Apply the regular expression to each element in the 'score' column\n",
    "matches = df_historical_data['score'].apply(lambda x: bool(re.match(pattern_only_score, x)))\n",
    "\n",
    "# Filter the DataFrame based on the matches\n",
    "unmatched_rows = df_historical_data[~matches]\n",
    "\n",
    "# Print the rows where the score format matches the pattern\n",
    "print(unmatched_rows)\n"
   ]
  },
  {
   "cell_type": "code",
   "execution_count": 6,
   "metadata": {},
   "outputs": [
    {
     "data": {
      "text/html": [
       "<div>\n",
       "<style scoped>\n",
       "    .dataframe tbody tr th:only-of-type {\n",
       "        vertical-align: middle;\n",
       "    }\n",
       "\n",
       "    .dataframe tbody tr th {\n",
       "        vertical-align: top;\n",
       "    }\n",
       "\n",
       "    .dataframe thead th {\n",
       "        text-align: right;\n",
       "    }\n",
       "</style>\n",
       "<table border=\"1\" class=\"dataframe\">\n",
       "  <thead>\n",
       "    <tr style=\"text-align: right;\">\n",
       "      <th></th>\n",
       "      <th>home</th>\n",
       "      <th>score</th>\n",
       "      <th>away</th>\n",
       "      <th>year</th>\n",
       "    </tr>\n",
       "  </thead>\n",
       "  <tbody>\n",
       "    <tr>\n",
       "      <th>0</th>\n",
       "      <td>France</td>\n",
       "      <td>4–5</td>\n",
       "      <td>Yugoslavia</td>\n",
       "      <td>1960</td>\n",
       "    </tr>\n",
       "    <tr>\n",
       "      <th>1</th>\n",
       "      <td>Czechoslovakia</td>\n",
       "      <td>0–3</td>\n",
       "      <td>Soviet Union</td>\n",
       "      <td>1960</td>\n",
       "    </tr>\n",
       "    <tr>\n",
       "      <th>2</th>\n",
       "      <td>Czechoslovakia</td>\n",
       "      <td>2–0</td>\n",
       "      <td>France</td>\n",
       "      <td>1960</td>\n",
       "    </tr>\n",
       "    <tr>\n",
       "      <th>3</th>\n",
       "      <td>Soviet Union</td>\n",
       "      <td>2–1 (a.e.t.)</td>\n",
       "      <td>Yugoslavia</td>\n",
       "      <td>1960</td>\n",
       "    </tr>\n",
       "    <tr>\n",
       "      <th>4</th>\n",
       "      <td>Spain</td>\n",
       "      <td>2–1 (a.e.t.)</td>\n",
       "      <td>Hungary</td>\n",
       "      <td>1964</td>\n",
       "    </tr>\n",
       "    <tr>\n",
       "      <th>...</th>\n",
       "      <td>...</td>\n",
       "      <td>...</td>\n",
       "      <td>...</td>\n",
       "      <td>...</td>\n",
       "    </tr>\n",
       "    <tr>\n",
       "      <th>332</th>\n",
       "      <td>Czech Republic</td>\n",
       "      <td>1–2</td>\n",
       "      <td>Denmark</td>\n",
       "      <td>2020</td>\n",
       "    </tr>\n",
       "    <tr>\n",
       "      <th>333</th>\n",
       "      <td>Ukraine</td>\n",
       "      <td>0–4</td>\n",
       "      <td>England</td>\n",
       "      <td>2020</td>\n",
       "    </tr>\n",
       "    <tr>\n",
       "      <th>334</th>\n",
       "      <td>Italy</td>\n",
       "      <td>1–1 (a.e.t.)</td>\n",
       "      <td>Spain</td>\n",
       "      <td>2020</td>\n",
       "    </tr>\n",
       "    <tr>\n",
       "      <th>335</th>\n",
       "      <td>England</td>\n",
       "      <td>2–1 (a.e.t.)</td>\n",
       "      <td>Denmark</td>\n",
       "      <td>2020</td>\n",
       "    </tr>\n",
       "    <tr>\n",
       "      <th>336</th>\n",
       "      <td>Italy</td>\n",
       "      <td>1–1 (a.e.t.)</td>\n",
       "      <td>England</td>\n",
       "      <td>2020</td>\n",
       "    </tr>\n",
       "  </tbody>\n",
       "</table>\n",
       "<p>336 rows × 4 columns</p>\n",
       "</div>"
      ],
      "text/plain": [
       "                home         score           away  year\n",
       "0            France            4–5     Yugoslavia  1960\n",
       "1    Czechoslovakia            0–3   Soviet Union  1960\n",
       "2    Czechoslovakia            2–0         France  1960\n",
       "3      Soviet Union   2–1 (a.e.t.)     Yugoslavia  1960\n",
       "4             Spain   2–1 (a.e.t.)        Hungary  1964\n",
       "..               ...           ...            ...   ...\n",
       "332  Czech Republic            1–2        Denmark  2020\n",
       "333         Ukraine            0–4        England  2020\n",
       "334           Italy   1–1 (a.e.t.)          Spain  2020\n",
       "335         England   2–1 (a.e.t.)        Denmark  2020\n",
       "336           Italy   1–1 (a.e.t.)        England  2020\n",
       "\n",
       "[336 rows x 4 columns]"
      ]
     },
     "execution_count": 6,
     "metadata": {},
     "output_type": "execute_result"
    }
   ],
   "source": [
    "df_historical_data.drop(8) # won on coin toss"
   ]
  },
  {
   "cell_type": "markdown",
   "metadata": {},
   "source": [
    "<h3>Have only score line</h3>"
   ]
  },
  {
   "cell_type": "code",
   "execution_count": 7,
   "metadata": {},
   "outputs": [
    {
     "data": {
      "text/plain": [
       "0               4–5\n",
       "1               0–3\n",
       "2               2–0\n",
       "3      2–1 (a.e.t.)\n",
       "4      2–1 (a.e.t.)\n",
       "           ...     \n",
       "332             1–2\n",
       "333             0–4\n",
       "334    1–1 (a.e.t.)\n",
       "335    2–1 (a.e.t.)\n",
       "336    1–1 (a.e.t.)\n",
       "Name: score, Length: 337, dtype: object"
      ]
     },
     "execution_count": 7,
     "metadata": {},
     "output_type": "execute_result"
    }
   ],
   "source": [
    "df_historical_data['score']"
   ]
  },
  {
   "cell_type": "code",
   "execution_count": 8,
   "metadata": {},
   "outputs": [],
   "source": [
    "df_historical_data['score'] = df_historical_data['score'].str.replace(r'[^\\d\\u2013\\u2212−-]', '', regex=True)\n"
   ]
  },
  {
   "cell_type": "code",
   "execution_count": 9,
   "metadata": {},
   "outputs": [],
   "source": [
    "df_historical_data['home']=df_historical_data['home'].str.strip()\n",
    "df_historical_data['away']=df_historical_data['away'].str.strip()"
   ]
  },
  {
   "cell_type": "markdown",
   "metadata": {},
   "source": [
    "<h3>spliting score</h3>"
   ]
  },
  {
   "cell_type": "code",
   "execution_count": 10,
   "metadata": {},
   "outputs": [],
   "source": [
    "\n",
    "df_historical_data['home_score'] = df_historical_data['score'].apply(lambda x: x.split('–')[0])\n",
    "df_historical_data['away_score'] = df_historical_data['score'].apply(lambda x: x.split('–')[1])\n",
    "\n",
    "#df_historical_data[['home_goal','away_goal']]=df_historical_data['score'].str.split('-',expand=True)"
   ]
  },
  {
   "cell_type": "markdown",
   "metadata": {},
   "source": [
    "<h3>deleting score column</h3>"
   ]
  },
  {
   "cell_type": "code",
   "execution_count": 11,
   "metadata": {},
   "outputs": [],
   "source": [
    "df_historical_data.drop('score',axis=1, inplace=True)\n"
   ]
  },
  {
   "cell_type": "markdown",
   "metadata": {},
   "source": [
    "<h2>renaming column and change data type</h3>"
   ]
  },
  {
   "cell_type": "code",
   "execution_count": 12,
   "metadata": {},
   "outputs": [],
   "source": [
    "df_historical_data.rename(columns={'home':'HomeTeam','away':'AwayTeam','year':'Year'}, inplace=True)\n",
    "df_historical_data = df_historical_data.astype({'home_score': int, 'away_score': int, 'Year': int})\n",
    "\n"
   ]
  },
  {
   "cell_type": "code",
   "execution_count": 13,
   "metadata": {},
   "outputs": [
    {
     "data": {
      "text/plain": [
       "HomeTeam      object\n",
       "AwayTeam      object\n",
       "Year           int32\n",
       "home_score     int32\n",
       "away_score     int32\n",
       "dtype: object"
      ]
     },
     "execution_count": 13,
     "metadata": {},
     "output_type": "execute_result"
    }
   ],
   "source": [
    "df_historical_data.dtypes\n"
   ]
  },
  {
   "cell_type": "code",
   "execution_count": 14,
   "metadata": {},
   "outputs": [],
   "source": [
    "#creating new column totalgoals\n",
    "df_historical_data['TotalGoals']=df_historical_data['home_score']+df_historical_data['away_score']"
   ]
  },
  {
   "cell_type": "markdown",
   "metadata": {},
   "source": [
    "<h1>2 Exporting clean dataFrames</h1>"
   ]
  },
  {
   "cell_type": "code",
   "execution_count": 15,
   "metadata": {},
   "outputs": [],
   "source": [
    "df_historical_data.to_csv('clean_uefa_euros_historical_data.csv',index=False)\n",
    "df_fixture.to_csv('clean_uefa_euros_fixture.csv',index=False)\n"
   ]
  },
  {
   "cell_type": "markdown",
   "metadata": {},
   "source": [
    "<h1>3 Extra Verification</h3>"
   ]
  },
  {
   "cell_type": "code",
   "execution_count": 16,
   "metadata": {},
   "outputs": [
    {
     "name": "stdout",
     "output_type": "stream",
     "text": [
      "1960 4\n",
      "1964 4\n",
      "1968 5\n",
      "1972 4\n",
      "1976 4\n",
      "1980 14\n",
      "1984 15\n",
      "1988 15\n",
      "1992 15\n",
      "1996 31\n",
      "2000 31\n",
      "2004 31\n",
      "2008 31\n",
      "2012 31\n",
      "2016 51\n",
      "2020 51\n"
     ]
    }
   ],
   "source": [
    "years=[]\n",
    "for i in range(1960,2021,4):\n",
    "    years.append(i)\n",
    "\n",
    "for year in years:\n",
    "    print(year, len(df_historical_data[df_historical_data['Year']==year]))\n",
    "#verified from  https://en.wikipedia.org/wiki/UEFA_European_Championship#Expansion_to_8_teams"
   ]
  },
  {
   "cell_type": "code",
   "execution_count": 17,
   "metadata": {},
   "outputs": [
    {
     "data": {
      "text/html": [
       "<div>\n",
       "<style scoped>\n",
       "    .dataframe tbody tr th:only-of-type {\n",
       "        vertical-align: middle;\n",
       "    }\n",
       "\n",
       "    .dataframe tbody tr th {\n",
       "        vertical-align: top;\n",
       "    }\n",
       "\n",
       "    .dataframe thead th {\n",
       "        text-align: right;\n",
       "    }\n",
       "</style>\n",
       "<table border=\"1\" class=\"dataframe\">\n",
       "  <thead>\n",
       "    <tr style=\"text-align: right;\">\n",
       "      <th></th>\n",
       "      <th>HomeTeam</th>\n",
       "      <th>AwayTeam</th>\n",
       "      <th>Year</th>\n",
       "      <th>home_score</th>\n",
       "      <th>away_score</th>\n",
       "      <th>TotalGoals</th>\n",
       "    </tr>\n",
       "  </thead>\n",
       "  <tbody>\n",
       "    <tr>\n",
       "      <th>0</th>\n",
       "      <td>France</td>\n",
       "      <td>Yugoslavia</td>\n",
       "      <td>1960</td>\n",
       "      <td>4</td>\n",
       "      <td>5</td>\n",
       "      <td>9</td>\n",
       "    </tr>\n",
       "    <tr>\n",
       "      <th>1</th>\n",
       "      <td>Czechoslovakia</td>\n",
       "      <td>Soviet Union</td>\n",
       "      <td>1960</td>\n",
       "      <td>0</td>\n",
       "      <td>3</td>\n",
       "      <td>3</td>\n",
       "    </tr>\n",
       "    <tr>\n",
       "      <th>2</th>\n",
       "      <td>Czechoslovakia</td>\n",
       "      <td>France</td>\n",
       "      <td>1960</td>\n",
       "      <td>2</td>\n",
       "      <td>0</td>\n",
       "      <td>2</td>\n",
       "    </tr>\n",
       "    <tr>\n",
       "      <th>3</th>\n",
       "      <td>Soviet Union</td>\n",
       "      <td>Yugoslavia</td>\n",
       "      <td>1960</td>\n",
       "      <td>2</td>\n",
       "      <td>1</td>\n",
       "      <td>3</td>\n",
       "    </tr>\n",
       "    <tr>\n",
       "      <th>4</th>\n",
       "      <td>Spain</td>\n",
       "      <td>Hungary</td>\n",
       "      <td>1964</td>\n",
       "      <td>2</td>\n",
       "      <td>1</td>\n",
       "      <td>3</td>\n",
       "    </tr>\n",
       "    <tr>\n",
       "      <th>...</th>\n",
       "      <td>...</td>\n",
       "      <td>...</td>\n",
       "      <td>...</td>\n",
       "      <td>...</td>\n",
       "      <td>...</td>\n",
       "      <td>...</td>\n",
       "    </tr>\n",
       "    <tr>\n",
       "      <th>332</th>\n",
       "      <td>Czech Republic</td>\n",
       "      <td>Denmark</td>\n",
       "      <td>2020</td>\n",
       "      <td>1</td>\n",
       "      <td>2</td>\n",
       "      <td>3</td>\n",
       "    </tr>\n",
       "    <tr>\n",
       "      <th>333</th>\n",
       "      <td>Ukraine</td>\n",
       "      <td>England</td>\n",
       "      <td>2020</td>\n",
       "      <td>0</td>\n",
       "      <td>4</td>\n",
       "      <td>4</td>\n",
       "    </tr>\n",
       "    <tr>\n",
       "      <th>334</th>\n",
       "      <td>Italy</td>\n",
       "      <td>Spain</td>\n",
       "      <td>2020</td>\n",
       "      <td>1</td>\n",
       "      <td>1</td>\n",
       "      <td>2</td>\n",
       "    </tr>\n",
       "    <tr>\n",
       "      <th>335</th>\n",
       "      <td>England</td>\n",
       "      <td>Denmark</td>\n",
       "      <td>2020</td>\n",
       "      <td>2</td>\n",
       "      <td>1</td>\n",
       "      <td>3</td>\n",
       "    </tr>\n",
       "    <tr>\n",
       "      <th>336</th>\n",
       "      <td>Italy</td>\n",
       "      <td>England</td>\n",
       "      <td>2020</td>\n",
       "      <td>1</td>\n",
       "      <td>1</td>\n",
       "      <td>2</td>\n",
       "    </tr>\n",
       "  </tbody>\n",
       "</table>\n",
       "<p>337 rows × 6 columns</p>\n",
       "</div>"
      ],
      "text/plain": [
       "           HomeTeam      AwayTeam  Year  home_score  away_score  TotalGoals\n",
       "0            France    Yugoslavia  1960           4           5           9\n",
       "1    Czechoslovakia  Soviet Union  1960           0           3           3\n",
       "2    Czechoslovakia        France  1960           2           0           2\n",
       "3      Soviet Union    Yugoslavia  1960           2           1           3\n",
       "4             Spain       Hungary  1964           2           1           3\n",
       "..              ...           ...   ...         ...         ...         ...\n",
       "332  Czech Republic       Denmark  2020           1           2           3\n",
       "333         Ukraine       England  2020           0           4           4\n",
       "334           Italy         Spain  2020           1           1           2\n",
       "335         England       Denmark  2020           2           1           3\n",
       "336           Italy       England  2020           1           1           2\n",
       "\n",
       "[337 rows x 6 columns]"
      ]
     },
     "execution_count": 17,
     "metadata": {},
     "output_type": "execute_result"
    }
   ],
   "source": [
    "df_historical_data"
   ]
  },
  {
   "cell_type": "code",
   "execution_count": null,
   "metadata": {},
   "outputs": [],
   "source": []
  }
 ],
 "metadata": {
  "kernelspec": {
   "display_name": "base",
   "language": "python",
   "name": "python3"
  },
  "language_info": {
   "codemirror_mode": {
    "name": "ipython",
    "version": 3
   },
   "file_extension": ".py",
   "mimetype": "text/x-python",
   "name": "python",
   "nbconvert_exporter": "python",
   "pygments_lexer": "ipython3",
   "version": "3.11.5"
  }
 },
 "nbformat": 4,
 "nbformat_minor": 2
}
